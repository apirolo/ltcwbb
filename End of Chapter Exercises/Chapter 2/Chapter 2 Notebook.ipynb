{
 "cells": [
  {
   "cell_type": "markdown",
   "id": "087ef5ee-1524-4dad-a10b-d3ef383e5c13",
   "metadata": {},
   "source": [
    "# Chapter 2 Exercises\n",
    "## Alex Pirolo\n",
    "Thursday, Jan 12, 2023"
   ]
  },
  {
   "cell_type": "markdown",
   "id": "7342df3a-3d24-464a-83fa-d0400bf18c1f",
   "metadata": {
    "tags": []
   },
   "source": [
    "This chapter covers the basics of base Python programming including:\n",
    "   - Comments\n",
    "   - Variables\n",
    "   - Types\n",
    "   - Bools\n",
    "   - If Statements\n",
    "   - Lists\n",
    "   - Dicts\n",
    "   - Loops\n",
    "   - Comprehensions\n",
    "   - Functions\n",
    "   - etc.\n",
    "    \n",
    "Along with how each of those items can be used and methods of opperating on\n",
    "them. This chapter also touches breifly on Librairies and that they will be\n",
    "used more in later chapters.\n",
    "\n",
    "Most of the exercieses in this chapter seem to attempt to ensure the reader \n",
    "grasps the basics of Python that will be built upon throughout the rest of the\n",
    "book.\n",
    "\n",
    "Note: This is my first attempt at using Jupyter Lab or Jupyter Notebooks so I will be learning this at the same time.\n",
    "***"
   ]
  },
  {
   "cell_type": "markdown",
   "id": "a425d3c9-4792-4d72-80e0-71a16e2ba466",
   "metadata": {},
   "source": [
    "## 2.1 Which of the following are valid Python variable names?\n",
    "\n",
    "    a) _throwaway_data\n",
    "    \n",
    "        This is a valid variable name, the book mentions variable names with \n",
    "        an underscore are often used for short-term variables that will be \n",
    "        thrown away\n",
    "        \n",
    "    b) n_of_hrs\n",
    "    \n",
    "        This is a valid variable name.\n",
    "      \n",
    "    c) 2nd_base_name\n",
    "       \n",
    "        This is not a valid variable name as variable names cannot begin with\n",
    "        a number.\n",
    "        \n",
    "    d) grandSlam\n",
    "       \n",
    "        This is a valid variable name.\n",
    "       \n",
    "    e) strike3\n",
    "        \n",
    "        This is a valid variable name, the names can contain numbers as long\n",
    "        as they do not start with the number.\n",
    "        \n",
    "    f) starting pitcher\n",
    "        \n",
    "        This is not a valid name as variable names cannot contain spaces.\n",
    "        \n",
    "    g) @home_or_away\n",
    "        \n",
    "        This is not a valid variable name as the only symbol allowed to be \n",
    "        used in a variable name is an underscore.\n",
    "        \n",
    "    h) 'value_over_replacement'\n",
    "        \n",
    "        This is not a valid variable name as it is a string, which cannot be\n",
    "        a variable name.\n",
    "        "
   ]
  },
  {
   "cell_type": "markdown",
   "id": "cb506516-fcb8-45fc-84d1-077e7e19f952",
   "metadata": {},
   "source": [
    "## 2.2 What is the value of runs at the end of the following code?"
   ]
  },
  {
   "cell_type": "code",
   "execution_count": 1,
   "id": "8b3142a7-ed25-4620-b6b8-e5090bc3a4cc",
   "metadata": {},
   "outputs": [],
   "source": [
    "runs = 0\n",
    "runs = runs + 2\n",
    "runs = runs + 5"
   ]
  },
  {
   "cell_type": "markdown",
   "id": "27db8021-31ca-4c5a-a638-4a28025aff16",
   "metadata": {},
   "source": [
    "The number of runs after this code runs will be 7.\n",
    "Initially, runs is set to 0.\n",
    "Then, 2 runs are added to its value.\n",
    "Finally, 5 more runs are added to the value.\n",
    "Thus, 0 + 2 + 5 = 7"
   ]
  },
  {
   "cell_type": "code",
   "execution_count": 2,
   "id": "d5f54639-0936-43b8-9fc4-7410b5cbf450",
   "metadata": {},
   "outputs": [
    {
     "data": {
      "text/plain": [
       "7"
      ]
     },
     "execution_count": 2,
     "metadata": {},
     "output_type": "execute_result"
    }
   ],
   "source": [
    "runs"
   ]
  },
  {
   "cell_type": "markdown",
   "id": "b2433026-ea6f-4242-ae6f-eaca281c9504",
   "metadata": {},
   "source": [
    "## 2.3 Write a function named `announce_pitch` that takes in the name of a player and a pitch (e.g. 'Kershaw', 'slider') and returns a string of the form: 'Kershaw with the slider!'."
   ]
  },
  {
   "cell_type": "code",
   "execution_count": 3,
   "id": "76e7b0c4-6784-45b3-9438-924a4c6bf851",
   "metadata": {},
   "outputs": [],
   "source": [
    "def announce_pitch(player, pitch):\n",
    "    \"\"\"\n",
    "    Parameters\n",
    "    ----------\n",
    "    player : string\n",
    "        Name of the pitcher.\n",
    "    pitch : string\n",
    "        Type of pitch.\n",
    "\n",
    "    Returns\n",
    "    -------\n",
    "    announcement : string\n",
    "        A string announcing the pitcher and pitch thrown.\n",
    "\n",
    "    \"\"\"\n",
    "    \n",
    "    assert isinstance(player, str), \"Player names only!\"\n",
    "    assert isinstance(pitch, str), \"Pitch names only!\"\n",
    "    player = player.title()\n",
    "    pitch = pitch.lower()\n",
    "    return f\"{player} with the {pitch}!\""
   ]
  },
  {
   "cell_type": "code",
   "execution_count": 4,
   "id": "d16ead42-7de3-40d6-bc51-7028b5f9fe2e",
   "metadata": {},
   "outputs": [
    {
     "data": {
      "text/plain": [
       "'Kershaw with the slider!'"
      ]
     },
     "execution_count": 4,
     "metadata": {},
     "output_type": "execute_result"
    }
   ],
   "source": [
    "announce_pitch(\"kershaw\", \"slider\")"
   ]
  },
  {
   "cell_type": "markdown",
   "id": "bb1eb8d8-b042-4931-99ae-4fb0d35d43da",
   "metadata": {},
   "source": [
    "\n",
    "## 2.4 Without looking it up, what do you think the string method `islower` does? What type of value does it return? Write some code to test your guess.\n",
    "\n",
    "It will check if a string is lower-case and will return a boolean True / False if the string is / isn't."
   ]
  },
  {
   "cell_type": "code",
   "execution_count": 5,
   "id": "949b84b8-7868-4456-9961-d574e1a7c17b",
   "metadata": {},
   "outputs": [
    {
     "data": {
      "text/plain": [
       "True"
      ]
     },
     "execution_count": 5,
     "metadata": {},
     "output_type": "execute_result"
    }
   ],
   "source": [
    "prob4a = \"lower\"\n",
    "prob4b = \"Mixed\"\n",
    "\n",
    "prob4a.islower()"
   ]
  },
  {
   "cell_type": "code",
   "execution_count": 6,
   "id": "0b94f760-62a7-4f75-bb8b-d60b6914ca8d",
   "metadata": {},
   "outputs": [
    {
     "data": {
      "text/plain": [
       "False"
      ]
     },
     "execution_count": 6,
     "metadata": {},
     "output_type": "execute_result"
    }
   ],
   "source": [
    "prob4b.islower()"
   ]
  },
  {
   "cell_type": "markdown",
   "id": "40d9dc2b-393f-43be-98fc-6aa03ff120bf",
   "metadata": {},
   "source": [
    "## 2.5 Write a function `is_travisd` that takes in a player name and returns a bool indicating whether the player's name is \"Travis d'Arnaud\" - regardless of case or whether the user included the '."
   ]
  },
  {
   "cell_type": "code",
   "execution_count": 7,
   "id": "e0bc4970-b381-4834-a3df-b8ba6b8a6cff",
   "metadata": {},
   "outputs": [],
   "source": [
    "def is_travisd(name):\n",
    "    \"\"\"\n",
    "    Parameters\n",
    "    ----------\n",
    "    name : str\n",
    "        Player name.\n",
    "\n",
    "    Returns\n",
    "    -------\n",
    "    isTrav : bool\n",
    "        True if player name is Travis d'Arnaud.\n",
    "\n",
    "    \"\"\"\n",
    "    assert isinstance(name, str), \"Player names only, must be a string!\"\n",
    "    \n",
    "    return name.lower().replace(\"'\",\"\") == \"travis darnaud\""
   ]
  },
  {
   "cell_type": "code",
   "execution_count": 8,
   "id": "d05871aa-a67f-4cb8-8e0c-362fa9243d3b",
   "metadata": {},
   "outputs": [
    {
     "data": {
      "text/plain": [
       "True"
      ]
     },
     "execution_count": 8,
     "metadata": {},
     "output_type": "execute_result"
    }
   ],
   "source": [
    "is_travisd(\"Travis d'Arnaud\")"
   ]
  },
  {
   "cell_type": "code",
   "execution_count": 9,
   "id": "b0c3b56c-2588-4188-bfd8-899970303637",
   "metadata": {},
   "outputs": [
    {
     "data": {
      "text/plain": [
       "True"
      ]
     },
     "execution_count": 9,
     "metadata": {},
     "output_type": "execute_result"
    }
   ],
   "source": [
    "is_travisd(\"travis darnaud\")"
   ]
  },
  {
   "cell_type": "code",
   "execution_count": 10,
   "id": "07f823e2-26e8-4de4-bd20-7dfa4ecd5869",
   "metadata": {},
   "outputs": [
    {
     "data": {
      "text/plain": [
       "False"
      ]
     },
     "execution_count": 10,
     "metadata": {},
     "output_type": "execute_result"
    }
   ],
   "source": [
    "is_travisd(\"Mike Trout\")"
   ]
  },
  {
   "cell_type": "markdown",
   "id": "67def5a2-31bf-43c8-830f-119fdef6134d",
   "metadata": {},
   "source": [
    "## 2.6 Write a function, `commentary`, that takes in a batting average (without the decimal, e.g. 275 or 333) and returns a string '333 is a good ave' if the number is >= 33 or \"275's not that good\" otherwise."
   ]
  },
  {
   "cell_type": "code",
   "execution_count": 11,
   "id": "cf05aab3-bc8e-4661-adf7-bab50ae09348",
   "metadata": {},
   "outputs": [],
   "source": [
    "def commentary(BA : int):\n",
    "    \"\"\"\n",
    "    Parameters\n",
    "    ----------\n",
    "    BA : int\n",
    "        Batting avg without decimal.\n",
    "\n",
    "    Returns\n",
    "    -------\n",
    "    comment : str\n",
    "        Commentary.\n",
    "\n",
    "    \"\"\"\n",
    "    assert isinstance(BA, int), \"BA must be an int!\"\n",
    "    \n",
    "    if BA >= 300:\n",
    "        return f\"{BA} is a good ave\"\n",
    "    else:\n",
    "        return f\"{BA}'s not that good\""
   ]
  },
  {
   "cell_type": "code",
   "execution_count": 12,
   "id": "f1e13b31-24f0-4aa8-ae89-0aee3569c5fe",
   "metadata": {},
   "outputs": [
    {
     "data": {
      "text/plain": [
       "'323 is a good ave'"
      ]
     },
     "execution_count": 12,
     "metadata": {},
     "output_type": "execute_result"
    }
   ],
   "source": [
    "commentary(323)"
   ]
  },
  {
   "cell_type": "code",
   "execution_count": 13,
   "id": "ad4845a9-a264-4074-b139-72605a461d31",
   "metadata": {},
   "outputs": [
    {
     "data": {
      "text/plain": [
       "\"223's not that good\""
      ]
     },
     "execution_count": 13,
     "metadata": {},
     "output_type": "execute_result"
    }
   ],
   "source": [
    "commentary(223)"
   ]
  },
  {
   "cell_type": "markdown",
   "id": "6e8e4cf8-9fad-4448-94ba-fe6c04c9f58c",
   "metadata": {},
   "source": [
    "## 2.7 Write a function, `commentary_plus`, that works like `commentary` above but can also handle averages passed in decimal form (e.g. 0.275). Note it should still be able to handle non-decimal (275) too."
   ]
  },
  {
   "cell_type": "code",
   "execution_count": 14,
   "id": "4ec32453-3737-4145-870e-8162681c444f",
   "metadata": {},
   "outputs": [],
   "source": [
    "def commentary_plus1(BA):\n",
    "    \"\"\"\n",
    "    This implementation handles both float and int numbers by itself.\n",
    "    \n",
    "    Parameters\n",
    "    ----------\n",
    "    BA : int or float\n",
    "        batting avg.\n",
    "\n",
    "    Returns\n",
    "    -------\n",
    "    comment : string\n",
    "        commentary.\n",
    "\n",
    "    \"\"\"\n",
    "    \n",
    "    if (type(BA) is int and BA >= 300) or (type(BA) is float and BA >= 0.3):\n",
    "        return f\"{BA} is a good ave\"\n",
    "    else:\n",
    "        return f\"{BA}'s not that good\""
   ]
  },
  {
   "cell_type": "code",
   "execution_count": 15,
   "id": "b42cd317-5cc5-415c-bb5e-3bb290780461",
   "metadata": {},
   "outputs": [
    {
     "data": {
      "text/plain": [
       "\"223's not that good\""
      ]
     },
     "execution_count": 15,
     "metadata": {},
     "output_type": "execute_result"
    }
   ],
   "source": [
    "commentary_plus1(223)"
   ]
  },
  {
   "cell_type": "code",
   "execution_count": 16,
   "id": "e5fe1bc0-faec-4314-87be-06a486872747",
   "metadata": {},
   "outputs": [
    {
     "data": {
      "text/plain": [
       "'333 is a good ave'"
      ]
     },
     "execution_count": 16,
     "metadata": {},
     "output_type": "execute_result"
    }
   ],
   "source": [
    "commentary_plus1(333)"
   ]
  },
  {
   "cell_type": "code",
   "execution_count": 17,
   "id": "26fa5e42-2358-4d4a-a248-556ae6b196e5",
   "metadata": {},
   "outputs": [
    {
     "data": {
      "text/plain": [
       "\"0.223's not that good\""
      ]
     },
     "execution_count": 17,
     "metadata": {},
     "output_type": "execute_result"
    }
   ],
   "source": [
    "commentary_plus1(.223)"
   ]
  },
  {
   "cell_type": "code",
   "execution_count": 18,
   "id": "96e3921c-7ef8-4ab3-8bef-a0919a732f34",
   "metadata": {},
   "outputs": [
    {
     "data": {
      "text/plain": [
       "'0.323 is a good ave'"
      ]
     },
     "execution_count": 18,
     "metadata": {},
     "output_type": "execute_result"
    }
   ],
   "source": [
    "commentary_plus1(.323)"
   ]
  },
  {
   "cell_type": "code",
   "execution_count": 19,
   "id": "e44335b3-1c40-4ee6-bdda-f72e01f7993b",
   "metadata": {},
   "outputs": [],
   "source": [
    "def commentary_plus2(BA):\n",
    "    \"\"\"\n",
    "    This implementation reuses the commentary function from the previous\n",
    "    exercise for int values.\n",
    "\n",
    "    Parameters\n",
    "    ----------\n",
    "    BA : int or float\n",
    "        batting avg.\n",
    "\n",
    "    Returns\n",
    "    -------\n",
    "    str\n",
    "        commentary.\n",
    "\n",
    "    \"\"\"\n",
    "    \n",
    "    if type(BA) is int:\n",
    "        return commentary(BA)\n",
    "    elif BA >= .300:\n",
    "        return f\"{BA} is a good ave\"\n",
    "    else:\n",
    "        return f\"{BA}'s not that good\""
   ]
  },
  {
   "cell_type": "code",
   "execution_count": 20,
   "id": "e045e4eb-338d-4f99-b938-df43bc9208cf",
   "metadata": {},
   "outputs": [
    {
     "data": {
      "text/plain": [
       "\"223's not that good\""
      ]
     },
     "execution_count": 20,
     "metadata": {},
     "output_type": "execute_result"
    }
   ],
   "source": [
    "commentary_plus2(223)"
   ]
  },
  {
   "cell_type": "code",
   "execution_count": 21,
   "id": "2a26aa30-c5c7-42bf-964a-72399b0b29ae",
   "metadata": {},
   "outputs": [
    {
     "data": {
      "text/plain": [
       "'323 is a good ave'"
      ]
     },
     "execution_count": 21,
     "metadata": {},
     "output_type": "execute_result"
    }
   ],
   "source": [
    "commentary_plus2(323)"
   ]
  },
  {
   "cell_type": "code",
   "execution_count": 22,
   "id": "5cb96ab0-0fda-4b11-b5df-f64738924aad",
   "metadata": {},
   "outputs": [
    {
     "data": {
      "text/plain": [
       "\"0.223's not that good\""
      ]
     },
     "execution_count": 22,
     "metadata": {},
     "output_type": "execute_result"
    }
   ],
   "source": [
    "commentary_plus2(.223)"
   ]
  },
  {
   "cell_type": "code",
   "execution_count": 23,
   "id": "feaffb06-ee9f-42c0-be48-540e8ebdfb5d",
   "metadata": {},
   "outputs": [
    {
     "data": {
      "text/plain": [
       "'0.323 is a good ave'"
      ]
     },
     "execution_count": 23,
     "metadata": {},
     "output_type": "execute_result"
    }
   ],
   "source": [
    "commentary_plus2(.323)"
   ]
  },
  {
   "cell_type": "markdown",
   "id": "46f3cd84-ba0c-47b3-bb41-634ad00c1798",
   "metadata": {},
   "source": [
    "## 2.8 Say we have a list: \n",
    "`dodgers_roster = ['clayton kershaw', 'cody bellinger', 'mookie betts']` \n",
    "## List at least three ways you can to print the list without 'mookie betts'. Use at least one comprehension."
   ]
  },
  {
   "cell_type": "code",
   "execution_count": 24,
   "id": "7b092973-5650-427c-8e32-889be8473a9e",
   "metadata": {},
   "outputs": [],
   "source": [
    "dodgers_roster = ['clayton kershaw', 'cody bellinger', 'mookie betts']"
   ]
  },
  {
   "cell_type": "code",
   "execution_count": 25,
   "id": "d83a0eac-e3ac-4b47-8eda-1353bc1aa51d",
   "metadata": {},
   "outputs": [
    {
     "name": "stdout",
     "output_type": "stream",
     "text": [
      "['clayton kershaw', 'cody bellinger']\n"
     ]
    }
   ],
   "source": [
    "print(dodgers_roster[:2])"
   ]
  },
  {
   "cell_type": "code",
   "execution_count": 26,
   "id": "c29573f9-20bf-40ea-88ed-0fc4d79cda2a",
   "metadata": {},
   "outputs": [
    {
     "name": "stdout",
     "output_type": "stream",
     "text": [
      "['clayton kershaw', 'cody bellinger']\n"
     ]
    }
   ],
   "source": [
    "print(dodgers_roster[:-1])"
   ]
  },
  {
   "cell_type": "code",
   "execution_count": 27,
   "id": "59ed69c2-3de9-4830-afb9-911976ba32d0",
   "metadata": {},
   "outputs": [
    {
     "name": "stdout",
     "output_type": "stream",
     "text": [
      "['clayton kershaw', 'cody bellinger']\n"
     ]
    }
   ],
   "source": [
    "print([x for x in dodgers_roster if x != 'mookie betts'])"
   ]
  },
  {
   "cell_type": "markdown",
   "id": "e55baa69-d2b4-44d1-8f79-2012bce28c0f",
   "metadata": {},
   "source": [
    "## 2.9 Say we have a dict: \n",
    "`pitcher_info = {'starter' : 'Kershaw', 'throws_right' : False}`"
   ]
  },
  {
   "cell_type": "markdown",
   "id": "d2612da2-8f8f-4f1d-935e-d08011fdc305",
   "metadata": {},
   "source": [
    "### a) How would you change 'starter' to 'Joe Kelly'?"
   ]
  },
  {
   "cell_type": "code",
   "execution_count": 28,
   "id": "b2d4ca83-c460-4ad1-8ef7-f444f88a887b",
   "metadata": {},
   "outputs": [],
   "source": [
    "pitcher_info = {'starter' : 'Kershaw', 'throws_right' : False}"
   ]
  },
  {
   "cell_type": "code",
   "execution_count": 29,
   "id": "58e58d60-8bf5-46ee-9e6a-970d1c5267d9",
   "metadata": {},
   "outputs": [],
   "source": [
    "pitcher_info['starter'] = 'Joe Kelly'"
   ]
  },
  {
   "cell_type": "code",
   "execution_count": 30,
   "id": "b2047477-7269-43a3-8133-511fd1080e86",
   "metadata": {},
   "outputs": [
    {
     "data": {
      "text/plain": [
       "{'starter': 'Joe Kelly', 'throws_right': False}"
      ]
     },
     "execution_count": 30,
     "metadata": {},
     "output_type": "execute_result"
    }
   ],
   "source": [
    "pitcher_info"
   ]
  },
  {
   "cell_type": "markdown",
   "id": "75d2ba09-806b-472e-9662-5adf2bd94df5",
   "metadata": {},
   "source": [
    "### b) Write a function, `toggle_throws`, that takes `pitcher_info`, turns `'throws_right'` to the opposite of whatever it is, and returns the updated settings dict."
   ]
  },
  {
   "cell_type": "code",
   "execution_count": 31,
   "id": "90f75048-a657-4296-8c82-ffa129d2eba3",
   "metadata": {},
   "outputs": [],
   "source": [
    "def toggle_throws(pitcher_dict):\n",
    "    \n",
    "    pitcher_dict['throws_right'] = not pitcher_dict['throws_right']\n",
    "    return pitcher_dict"
   ]
  },
  {
   "cell_type": "code",
   "execution_count": 32,
   "id": "4ab63188-5782-4fc9-9a65-2b86d960ca86",
   "metadata": {},
   "outputs": [
    {
     "data": {
      "text/plain": [
       "{'starter': 'Joe Kelly', 'throws_right': True}"
      ]
     },
     "execution_count": 32,
     "metadata": {},
     "output_type": "execute_result"
    }
   ],
   "source": [
    "toggle_throws(pitcher_info)"
   ]
  },
  {
   "cell_type": "markdown",
   "id": "a0f9072e-61a9-4ecf-8144-dfc55cb1bb6b",
   "metadata": {},
   "source": [
    "## 2.10 Assuming we've defined our same dict: \n",
    "`pitcher_info = {'starter' : 'Kershaw', 'throws_right' : False}` \n",
    "## Go through each line and say whether it'll work without error."
   ]
  },
  {
   "cell_type": "markdown",
   "id": "9a34e72d-8e10-48eb-aab1-538ffaf5ca95",
   "metadata": {},
   "source": [
    "### a) `pitcher_info['era']`\n",
    "\n",
    "This will not work, there is no `'era'` key defined in this dictionary."
   ]
  },
  {
   "cell_type": "markdown",
   "id": "e311cbaf-b7f4-4e1d-8906-e59f46a11eb6",
   "metadata": {},
   "source": [
    "### b) `pitcher_info[starter]`\n",
    "\n",
    "This will not work either, `starter` is a variable. To get this to work you would need to put parenthesis around the value, `'starter'`."
   ]
  },
  {
   "cell_type": "markdown",
   "id": "6497781b-a047-403a-9fb1-b70acc92a164",
   "metadata": {},
   "source": [
    "### c) `pitcher_info['age'] = 32`\n",
    "\n",
    "This will work. This line will add an entry to the dictionary with key `'age'` and value `32`."
   ]
  },
  {
   "cell_type": "markdown",
   "id": "5b611f96-0b1d-4fbd-871f-290f8ae10a37",
   "metadata": {},
   "source": [
    "## 2.11 Say we're looking at the list: \n",
    "`my_roster_list = ['clayton kershaw', 'mookie betts', 'cody bellinger']`"
   ]
  },
  {
   "cell_type": "markdown",
   "id": "84f700b4-8af1-4472-8c07-440b94c0712d",
   "metadata": {},
   "source": [
    "### a) Write a loop that goes through and prints the last name of every player in `my_roster_list`."
   ]
  },
  {
   "cell_type": "code",
   "execution_count": 33,
   "id": "9fdf5d59-408c-4779-81f7-60c4b1d1bd46",
   "metadata": {},
   "outputs": [],
   "source": [
    "my_roster_list = ['clayton kershaw', 'mookie betts', 'cody bellinger']"
   ]
  },
  {
   "cell_type": "code",
   "execution_count": 34,
   "id": "61fc059a-4920-4a6c-9873-db723d2d146f",
   "metadata": {},
   "outputs": [
    {
     "name": "stdout",
     "output_type": "stream",
     "text": [
      "kershaw\n",
      "betts\n",
      "bellinger\n"
     ]
    }
   ],
   "source": [
    "for i in my_roster_list:\n",
    "    print(i.rsplit()[1])"
   ]
  },
  {
   "cell_type": "markdown",
   "id": "51499e5b-deae-4c27-ad2f-a4d5a6f785a5",
   "metadata": {},
   "source": [
    "### b) Write a comprehension that ues `my_roster_list` to make a dict where the keys are the player names and the values are the lenghts of the strings."
   ]
  },
  {
   "cell_type": "code",
   "execution_count": 35,
   "id": "c0e17f26-af49-4f0a-bf05-7b196f51caa4",
   "metadata": {},
   "outputs": [
    {
     "data": {
      "text/plain": [
       "{'clayton kershaw': 15, 'mookie betts': 12, 'cody bellinger': 14}"
      ]
     },
     "execution_count": 35,
     "metadata": {},
     "output_type": "execute_result"
    }
   ],
   "source": [
    "{player : len(player) for player in my_roster_list}"
   ]
  },
  {
   "cell_type": "markdown",
   "id": "21c8e9c4-baa4-4f5d-a45b-ac4d48d2b0ce",
   "metadata": {},
   "source": [
    "## 2.12 Say we're working with the dict:\n",
    "   `my_roster_dict = {'p' : 'clayton kershaw', 'rf' : 'mookie betts', '1b' : 'cody bellinger'}`"
   ]
  },
  {
   "cell_type": "markdown",
   "id": "dfb2980f-0896-451f-b029-3197213a2c67",
   "metadata": {},
   "source": [
    "### a) Write a comprehension that turns `my_roster_dict` into a list of just the positions."
   ]
  },
  {
   "cell_type": "code",
   "execution_count": 36,
   "id": "276c825d-be8c-4db2-bc33-4b4db0612003",
   "metadata": {},
   "outputs": [],
   "source": [
    "my_roster_dict = {'p' : 'clayton kershaw', 'rf' : 'mookie betts', '1b' : 'cody bellinger'}"
   ]
  },
  {
   "cell_type": "code",
   "execution_count": 37,
   "id": "a8a1ec2d-f1b0-46b5-8780-fb859c256ca9",
   "metadata": {},
   "outputs": [
    {
     "data": {
      "text/plain": [
       "['p', 'rf', '1b']"
      ]
     },
     "execution_count": 37,
     "metadata": {},
     "output_type": "execute_result"
    }
   ],
   "source": [
    "[position for position in my_roster_dict]"
   ]
  },
  {
   "cell_type": "markdown",
   "id": "bbf94999-f2dc-4e00-a370-c366c1225611",
   "metadata": {},
   "source": [
    "## b) Write a comprehension that turns `my_roster_dict` into a list of just players whose last names start with 'b'."
   ]
  },
  {
   "cell_type": "code",
   "execution_count": 38,
   "id": "cc0bc611-c867-4dbf-9c4a-67d22d658e5e",
   "metadata": {},
   "outputs": [
    {
     "data": {
      "text/plain": [
       "['mookie betts', 'cody bellinger']"
      ]
     },
     "execution_count": 38,
     "metadata": {},
     "output_type": "execute_result"
    }
   ],
   "source": [
    "[player for _, player in my_roster_dict.items()\n",
    "     if player.split(' ')[-1][0] == 'b']"
   ]
  },
  {
   "cell_type": "markdown",
   "id": "05e7c403-f002-44ac-bae2-2d0ae446cfec",
   "metadata": {},
   "source": [
    "## 2.13\n",
    "\n",
    "### a) Write a function, `mapper`, that takes a list and a fucntion, applies the function to every item in the list and returns it."
   ]
  },
  {
   "cell_type": "code",
   "execution_count": 39,
   "id": "215e3cee-9b77-4ecb-a28f-25cde8d01696",
   "metadata": {},
   "outputs": [],
   "source": [
    "def mapper(l, f):\n",
    "    \n",
    "    return [f(x) for x in l]"
   ]
  },
  {
   "cell_type": "markdown",
   "id": "fd11980d-85a0-4e76-91ac-479a32f05a5e",
   "metadata": {},
   "source": [
    "### b) Assuming a 300 batting average, use `mapper` with an anonymous function to get an expected hits from the following number of at bats. Use the `round` function so your projections are even numbers."
   ]
  },
  {
   "cell_type": "code",
   "execution_count": 40,
   "id": "b8237f2a-2be7-499a-92a5-1a419a3ab4e2",
   "metadata": {},
   "outputs": [],
   "source": [
    "list_of_atbats = [500, 410, 618, 288, 236]"
   ]
  },
  {
   "cell_type": "code",
   "execution_count": 41,
   "id": "09d780d7-6c97-42c2-8766-0887bf17c180",
   "metadata": {},
   "outputs": [
    {
     "data": {
      "text/plain": [
       "[150, 123, 185, 86, 70]"
      ]
     },
     "execution_count": 41,
     "metadata": {},
     "output_type": "execute_result"
    }
   ],
   "source": [
    "mapper(list_of_atbats, lambda x : int(x*.300))"
   ]
  }
 ],
 "metadata": {
  "authors": [
   {
    "Alex Pirolo": "Author"
   }
  ],
  "kernelspec": {
   "display_name": "Python 3 (ipykernel)",
   "language": "python",
   "name": "python3"
  },
  "language_info": {
   "codemirror_mode": {
    "name": "ipython",
    "version": 3
   },
   "file_extension": ".py",
   "mimetype": "text/x-python",
   "name": "python",
   "nbconvert_exporter": "python",
   "pygments_lexer": "ipython3",
   "version": "3.9.13"
  },
  "title": "Chapter 2 Exercises"
 },
 "nbformat": 4,
 "nbformat_minor": 5
}
