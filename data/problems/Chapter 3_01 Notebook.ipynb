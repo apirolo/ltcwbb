{
 "cells": [
  {
   "cell_type": "markdown",
   "id": "4b4efc95-4675-4283-aa78-cd8f85536616",
   "metadata": {},
   "source": [
    "# Chapter 3 Part 2\n",
    "## Alex Pirolo\n",
    "***\n"
   ]
  }
 ],
 "metadata": {
  "kernelspec": {
   "display_name": "Python 3 (ipykernel)",
   "language": "python",
   "name": "python3"
  },
  "language_info": {
   "codemirror_mode": {
    "name": "ipython",
    "version": 3
   },
   "file_extension": ".py",
   "mimetype": "text/x-python",
   "name": "python",
   "nbconvert_exporter": "python",
   "pygments_lexer": "ipython3",
   "version": "3.9.13"
  }
 },
 "nbformat": 4,
 "nbformat_minor": 5
}
